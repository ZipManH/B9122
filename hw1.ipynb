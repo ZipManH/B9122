{
 "cells": [
  {
   "cell_type": "markdown",
   "metadata": {},
   "source": [
    "## Question 1"
   ]
  },
  {
   "cell_type": "code",
   "execution_count": 2,
   "metadata": {},
   "outputs": [
    {
     "name": "stdout",
     "output_type": "stream",
     "text": [
      "Python is hird for beginners to leirn? Yes, it is.\n"
     ]
    }
   ],
   "source": [
    "word='Python is hard for beginners to learn? Yes, it is.'\n",
    "\n",
    "print (word.replace('a','i'))"
   ]
  },
  {
   "cell_type": "markdown",
   "metadata": {},
   "source": [
    "## Question 2"
   ]
  },
  {
   "cell_type": "code",
   "execution_count": 1,
   "metadata": {},
   "outputs": [
    {
     "name": "stdout",
     "output_type": "stream",
     "text": [
      "1 * 1 = 1\n",
      "1 * 2 = 2\n",
      "1 * 3 = 3\n",
      "2 * 1 = 2\n",
      "2 * 2 = 4\n",
      "2 * 3 = 6\n",
      "3 * 1 = 3\n",
      "3 * 2 = 6\n",
      "3 * 3 = 9\n",
      "4 * 1 = 4\n",
      "4 * 2 = 8\n",
      "4 * 3 = 12\n",
      "5 * 1 = 5\n",
      "5 * 2 = 10\n",
      "5 * 3 = 15\n"
     ]
    }
   ],
   "source": [
    "def mys(n):\n",
    "    for i in range(1,n+1):\n",
    "        for p in (1,2,3):\n",
    "            a=i*p\n",
    "            print(i,'*',p,'=',a)\n",
    "mys(5)"
   ]
  },
  {
   "cell_type": "markdown",
   "metadata": {},
   "source": [
    "## Question 3"
   ]
  },
  {
   "cell_type": "code",
   "execution_count": 67,
   "metadata": {},
   "outputs": [
    {
     "name": "stdout",
     "output_type": "stream",
     "text": [
      "Please input your sentence: We are shaped by our thoughts\n",
      "[(2, 'We'), (2, 'by'), (3, 'are'), (3, 'our'), (6, 'shaped'), (8, 'thoughts')]\n"
     ]
    }
   ],
   "source": [
    "list=[]\n",
    "s = input('Please input your sentence: ')\n",
    "ss=s.split()\n",
    "\n",
    "for i in range(len(ss)):\n",
    "    a=ss[i]\n",
    "    b=len(a)\n",
    "    m=(b,a)\n",
    "    list.append(m)\n",
    "    \n",
    "def take1st(elem):\n",
    "    return elem[0]\n",
    "\n",
    "list.sort(key=take1st)\n",
    "print (list)"
   ]
  },
  {
   "cell_type": "markdown",
   "metadata": {},
   "source": [
    "## Question 4"
   ]
  },
  {
   "cell_type": "code",
   "execution_count": 78,
   "metadata": {},
   "outputs": [
    {
     "name": "stdout",
     "output_type": "stream",
     "text": [
      "The top 5 most frequent words and their occurences are as follows \n",
      " [('business', 6), ('the', 5), ('of', 5), ('is', 4), ('in', 4)]\n"
     ]
    }
   ],
   "source": [
    "fh=open('question4.txt')\n",
    "txt=fh.read()\n",
    "\n",
    "txt=txt.lower() \n",
    "txt_list=txt.split()\n",
    "\n",
    "summary=[]\n",
    "D={}\n",
    "\n",
    "for i in txt_list:\n",
    "    if i not in summary:\n",
    "        summary.append(i)\n",
    "\n",
    "for i in summary:\n",
    "    D[i]=txt_list.count(i)\n",
    "\n",
    "D_sorted=sorted(D.items(),key=lambda x:x[1]*-1)\n",
    "\n",
    "print('The top 5 most frequent words and their occurences are as follows','\\n',D_sorted[:5])"
   ]
  },
  {
   "cell_type": "markdown",
   "metadata": {},
   "source": [
    "## Question 5"
   ]
  },
  {
   "cell_type": "code",
   "execution_count": 151,
   "metadata": {},
   "outputs": [
    {
     "name": "stdout",
     "output_type": "stream",
     "text": [
      "Valid format dates are as follows:\n",
      "2012-12-30\n",
      "2019-06-30\n"
     ]
    }
   ],
   "source": [
    "# a) a regular expression that matches dates written in the given format:\n",
    "\n",
    "'^[0-9]{4}[-](0[1-9]|1[012])[-](0[1-9]|[12][0-9]|3[01])$'\n",
    "\n",
    "#Let's test:\n",
    "\n",
    "import re\n",
    "\n",
    "date_dict = {'GS4152016':132, 'GS20161018':34, 'GS36132016':243,\n",
    "           'GS5462016b':912, 'WM5462016':65, '2016-20-10':12, '2012-12-30':20, '2019-06-30':30}\n",
    "\n",
    "print ('Valid format dates are as follows:')\n",
    "for key in date_dict.keys():\n",
    "    if re.search('^([0-9]{4}[-](0[1-9]|1[012])[-](0[1-9]|[12][0-9]|3[01]))$',key):\n",
    "        print (key)\n"
   ]
  },
  {
   "cell_type": "code",
   "execution_count": 150,
   "metadata": {},
   "outputs": [
    {
     "name": "stdout",
     "output_type": "stream",
     "text": [
      "Valid format zip code are as follows:\n",
      "201361-0018\n",
      "54620\n"
     ]
    }
   ],
   "source": [
    "# b) a regular expression that matches either five or nine-digit zip codes in the given format:\n",
    "\n",
    "'^([0-9]{5}|([0-9]{6}[-][0-9]{4}))$'\n",
    "\n",
    "#Let's test:\n",
    "\n",
    "zipcode_dict = {'GS52016':132, '201361-0018':34, '36132pp':243,\n",
    "           'G0546203-2316b':912, '54620':65, '6554-po3':12, '2012-12-30':20, '636373-7276ipo':30}\n",
    "\n",
    "print ('Valid format zip code are as follows:')\n",
    "for key in zipcode_dict.keys():\n",
    "    if re.search('^([0-9]{5}|([0-9]{6}[-][0-9]{4}))$', key):\n",
    "        print(key)"
   ]
  },
  {
   "cell_type": "code",
   "execution_count": 159,
   "metadata": {},
   "outputs": [
    {
     "name": "stdout",
     "output_type": "stream",
     "text": [
      "Valid format email address are as follows:\n",
      "36132.op@pp.net\n",
      "hashao@mail.com\n",
      "5-oiyf@4620.moc\n",
      "fh23i.9@columbia.edu\n",
      "zzh2377@gsb.columbia.com\n"
     ]
    }
   ],
   "source": [
    "# c) a regular expression that matches an email address in the given format:\n",
    "\n",
    "'\\b[a-z0-9.+]+@[a-z0-9.-]+\\.[a-z]{2,}\\b'\n",
    "\n",
    "#Let's test:\n",
    "\n",
    "emailaddr_dict = {'nuiasb@www':132, 'bxsdgciebi#liked.net':34, '36132.op@pp.net':243,\n",
    "           'hashao@mail.com':912, '5-oiyf@4620.moc':65, '6554-po3':12, 'fh23i.9@columbia.edu':20, 'zzh2377@gsb.columbia.com':30}\n",
    "\n",
    "print ('Valid format email address are as follows:')\n",
    "for key in emailaddr_dict.keys():\n",
    "    if re.search('^(.*@.*\\.[a-z]{2,})$', key):\n",
    "        print(key)\n"
   ]
  },
  {
   "cell_type": "markdown",
   "metadata": {},
   "source": [
    "## Question 6"
   ]
  },
  {
   "cell_type": "code",
   "execution_count": 83,
   "metadata": {},
   "outputs": [
    {
     "name": "stdout",
     "output_type": "stream",
     "text": [
      "The indice is [1, 3]\n"
     ]
    }
   ],
   "source": [
    "import numpy as np\n",
    "\n",
    "a = np.array([1, 2, 3, 2])\n",
    "b = np.array([2, 2, 2, 2])\n",
    "\n",
    "indice=np.where(a==b)[0]\n",
    "\n",
    "print('The indice is',indice.tolist())\n"
   ]
  },
  {
   "cell_type": "markdown",
   "metadata": {},
   "source": [
    "### This is the end of Homework 1"
   ]
  },
  {
   "cell_type": "code",
   "execution_count": null,
   "metadata": {},
   "outputs": [],
   "source": []
  }
 ],
 "metadata": {
  "kernelspec": {
   "display_name": "Python 3",
   "language": "python",
   "name": "python3"
  },
  "language_info": {
   "codemirror_mode": {
    "name": "ipython",
    "version": 3
   },
   "file_extension": ".py",
   "mimetype": "text/x-python",
   "name": "python",
   "nbconvert_exporter": "python",
   "pygments_lexer": "ipython3",
   "version": "3.6.5"
  }
 },
 "nbformat": 4,
 "nbformat_minor": 2
}
